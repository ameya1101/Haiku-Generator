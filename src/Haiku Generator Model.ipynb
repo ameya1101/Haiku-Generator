{
  "nbformat": 4,
  "nbformat_minor": 0,
  "metadata": {
    "colab": {
      "name": "Haiku Generator.ipynb",
      "provenance": [],
      "collapsed_sections": []
    },
    "kernelspec": {
      "name": "python3",
      "display_name": "Python 3"
    },
    "accelerator": "GPU"
  },
  "cells": [
    {
      "cell_type": "code",
      "metadata": {
        "id": "OnWEU-iL8E-n",
        "colab_type": "code",
        "colab": {}
      },
      "source": [
        "import os\n",
        "import sys\n",
        "import numpy as np\n",
        "import tensorflow as tf\n",
        "from tensorflow import keras\n",
        "import time"
      ],
      "execution_count": 16,
      "outputs": []
    },
    {
      "cell_type": "code",
      "metadata": {
        "id": "vQaJGjFg8MQG",
        "colab_type": "code",
        "colab": {}
      },
      "source": [
        "file = 'haiku_reddit.tsv'\n",
        "raw_text = open(file, 'r').read().lower()"
      ],
      "execution_count": 2,
      "outputs": []
    },
    {
      "cell_type": "code",
      "metadata": {
        "id": "qnu8msJS8efG",
        "colab_type": "code",
        "colab": {}
      },
      "source": [
        "chars = sorted(list(set(raw_text)))\n",
        "char_to_int = dict((c, i) for i, c, in enumerate(chars))\n",
        "int_to_char = dict((i, c) for i, c in enumerate(chars))"
      ],
      "execution_count": 18,
      "outputs": []
    },
    {
      "cell_type": "code",
      "metadata": {
        "id": "AyTJDF4w8gKv",
        "colab_type": "code",
        "colab": {
          "base_uri": "https://localhost:8080/",
          "height": 34
        },
        "outputId": "c6e14f48-2b88-46b2-f90a-fe9466b4085a"
      },
      "source": [
        "n_chars = len(raw_text)\n",
        "n_words = len(chars)\n",
        "print(\"Number of unique characters (vocabulary): \", n_words)"
      ],
      "execution_count": 4,
      "outputs": [
        {
          "output_type": "stream",
          "text": [
            "Number of unique words (vocabulary):  66\n"
          ],
          "name": "stdout"
        }
      ]
    },
    {
      "cell_type": "code",
      "metadata": {
        "id": "7e7THqXF8hmK",
        "colab_type": "code",
        "colab": {}
      },
      "source": [
        "seq_length = 60\n",
        "dataX = []\n",
        "dataY = []\n",
        "lines = raw_text.split('\\n')\n",
        "total, skip = [0, 0]\n",
        "for haiku in lines:\n",
        "    if len(haiku) < seq_length:\n",
        "        skip = skip + 1\n",
        "        continue\n",
        "    haiku = haiku.strip()\n",
        "    for i in range(0, len(haiku) - 1 - seq_length):\n",
        "        total = total + 1\n",
        "        seq_in = haiku[i:i+seq_length]\n",
        "        seq_out = haiku[i+seq_length]\n",
        "        dataX.append([char_to_int[char] for char in seq_in])\n",
        "        dataY.append(char_to_int[seq_out])"
      ],
      "execution_count": 5,
      "outputs": []
    },
    {
      "cell_type": "code",
      "metadata": {
        "id": "hmGGVXEP8kKJ",
        "colab_type": "code",
        "colab": {}
      },
      "source": [
        "input_size = len(dataX)"
      ],
      "execution_count": 6,
      "outputs": []
    },
    {
      "cell_type": "code",
      "metadata": {
        "id": "8DWVyuT78l_6",
        "colab_type": "code",
        "colab": {}
      },
      "source": [
        "X = np.reshape(dataX, (input_size, seq_length, 1))\n",
        "X = X / float(n_words)\n",
        "y = tf.keras.utils.to_categorical(dataY)"
      ],
      "execution_count": 7,
      "outputs": []
    },
    {
      "cell_type": "code",
      "metadata": {
        "id": "XiQ58VgL8oPr",
        "colab_type": "code",
        "colab": {}
      },
      "source": [
        "model = keras.models.Sequential([\n",
        "    keras.layers.LSTM(512, input_shape=(X.shape[1], X.shape[2]), return_sequences=True),\n",
        "    keras.layers.Dropout(rate=0.2),\n",
        "    keras.layers.LSTM(512),\n",
        "    keras.layers.Dropout(rate=0.2),\n",
        "    keras.layers.Dense(y.shape[1], activation='softmax')\n",
        "])"
      ],
      "execution_count": 8,
      "outputs": []
    },
    {
      "cell_type": "code",
      "metadata": {
        "id": "xvH4GK858qQO",
        "colab_type": "code",
        "colab": {}
      },
      "source": [
        "model.compile(loss='categorical_crossentropy', optimizer='adam')"
      ],
      "execution_count": 9,
      "outputs": []
    },
    {
      "cell_type": "code",
      "metadata": {
        "id": "TJc7JClG80bb",
        "colab_type": "code",
        "colab": {}
      },
      "source": [
        "path = 'model-{epoch:02d}-{loss:.4f}=1.hdf5'\n",
        "checkpoint_cb = keras.callbacks.ModelCheckpoint(filepath=path, monitor='loss', verbose=1, mode='min', save_best_only=False)\n",
        "callbacks = [checkpoint_cb]"
      ],
      "execution_count": 11,
      "outputs": []
    },
    {
      "cell_type": "code",
      "metadata": {
        "id": "XYs4Nnbs9LVs",
        "colab_type": "code",
        "colab": {}
      },
      "source": [
        "history = model.fit(X, y, epochs=20, batch_size=64, callbacks=callbacks)"
      ],
      "execution_count": null,
      "outputs": []
    },
    {
      "cell_type": "code",
      "metadata": {
        "id": "PEEKNbPKvdQW",
        "colab_type": "code",
        "colab": {}
      },
      "source": [
        "model_name = 'model-09-1.5109=1.hdf5'\n",
        "model = keras.models.load_model(model_name)"
      ],
      "execution_count": 13,
      "outputs": []
    },
    {
      "cell_type": "code",
      "metadata": {
        "id": "kZcltuqMDXkz",
        "colab_type": "code",
        "colab": {}
      },
      "source": [
        "np.random.seed(int(time.time()))\n",
        "start = np.random.randint(0, len(dataX) - 1)\n",
        "pattern = dataX[start]\n",
        "print(\"Generated Hauku: \")\n",
        "generate = ''.join([int_to_char[value] for value in pattern])\n",
        "for i in range(30):\n",
        "  x = np.reshape(pattern, (1, len(pattern), 1))\n",
        "  x = x/float(n_words)\n",
        "  pred = model.predict(x, verbose=0)\n",
        "  index = np.argmax(pred)\n",
        "  result = int_to_char[index]\n",
        "  generate = generate + result\n",
        "  pattern.append(index)\n",
        "  pattern = pattern[1:len(pattern)]\n",
        "print(generate)"
      ],
      "execution_count": null,
      "outputs": []
    },
    {
      "cell_type": "code",
      "metadata": {
        "id": "AEuD8SflwCbs",
        "colab_type": "code",
        "colab": {}
      },
      "source": [
        ""
      ],
      "execution_count": 32,
      "outputs": []
    }
  ]
}